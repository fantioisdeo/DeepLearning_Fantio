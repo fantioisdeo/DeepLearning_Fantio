{
 "cells": [
  {
   "cell_type": "markdown",
   "metadata": {},
   "source": [
    "## Sejarah Singkat Python\n",
    "\n",
    "~Bahasa pemrograman Python dirilis pertama kali oleh Guido van Rossum di tahun 1991, \n",
    " yang sudah dikembangkan sejak tahun 1989.\n",
    " \n",
    "~Awal pemilihan nama Python tidak secara langsung berasal dari nama ular piton, \n",
    " tapi sebuah acara humor di BBC pada era 1980an dengan judul “Monty Python’s Flying Circus“. \n",
    " Monty Python adalah kelompok lawak yang membawakan acara tersebut. Kebetulan Guido van Rossum adalah penggemar dari acara ini.\n",
    "\n",
    "~Pada tahun 1994, Python 1.0 dirilis, yang diikuti dengan Python 2.0 pada tahun 2000. \n",
    " Python 3.0 keluar pada tahun 2008.\n"
   ]
  },
  {
   "cell_type": "markdown",
   "metadata": {},
   "source": [
    "## Variabel dan tipe data pada python"
   ]
  },
  {
   "cell_type": "markdown",
   "metadata": {},
   "source": [
    "### Variabel\n",
    "\n",
    "~Sebuah variabel adalah sebuah nama yang mempunyai sebuah nilai. \n",
    "\n",
    "~Pendeklarasian kalimat membuat sebuah variabel - variabel baru dan memberinya nilai.\n"
   ]
  },
  {
   "cell_type": "markdown",
   "metadata": {},
   "source": [
    "### Tipe Data\n",
    "Data yang disimpan di memori memiliki tipe yang berbeda – beda. Misalnya untuk panjang, akan disimpan dengan tipe bilangan. Nama orang akan disimpan dalam tipe string/karakter. Suhu akan disimpan dalam bentuk bilangan berkoma. Dan lain sebagainya. Masing – masing tipe data akan memiliki operasi yang berbeda – beda.\n"
   ]
  },
  {
   "cell_type": "markdown",
   "metadata": {},
   "source": [
    "### Integer\n",
    "\n",
    "Tipe data integer di Python panjangnya bisa berapa saja"
   ]
  },
  {
   "cell_type": "code",
   "execution_count": 12,
   "metadata": {},
   "outputs": [
    {
     "name": "stdout",
     "output_type": "stream",
     "text": [
      "100\n"
     ]
    }
   ],
   "source": [
    "panjang = 100\n",
    "print (panjang)"
   ]
  },
  {
   "cell_type": "markdown",
   "metadata": {},
   "source": [
    "### Float\n",
    "\n",
    "Tipe data float akurat sampai 17 angka di belakang koma"
   ]
  },
  {
   "cell_type": "code",
   "execution_count": 13,
   "metadata": {},
   "outputs": [
    {
     "name": "stdout",
     "output_type": "stream",
     "text": [
      "20.5\n"
     ]
    }
   ],
   "source": [
    "lebar = 20.5\n",
    "print (lebar)"
   ]
  },
  {
   "cell_type": "markdown",
   "metadata": {},
   "source": [
    "### String\n",
    "\n",
    "tipe data yang anggotanya berurut dan memiliki indeks. Indeks dimulai dari angka 0 bila dimulai dari depan dan -1 bila diindeks dari belakang. Tiap karakter bisa diakses menggunakan indeksnya dengan formatnya mastring[indeks] . Pada string juga bisa dilakukan slicing atau mengakses sekelompok substring dengan format namastring[awal:akhir]. Untuk jelasnya bisa diperhatikan contoh berikut. "
   ]
  },
  {
   "cell_type": "code",
   "execution_count": 14,
   "metadata": {},
   "outputs": [
    {
     "name": "stdout",
     "output_type": "stream",
     "text": [
      "Gunadarma University\n",
      "G\n",
      "y\n",
      "dar\n",
      "Guna\n"
     ]
    }
   ],
   "source": [
    "kalimat = \"Gunadarma University\"\n",
    "\n",
    "print(kalimat)      # print string lengkap\n",
    "print(kalimat[0])   # print karakter pertama\n",
    "print(kalimat[-1])  # print karakter terakhir\n",
    "print(kalimat[4:7]) # print dari indeks 4 - 6\n",
    "print(kalimat[:4])  # print dari indeks 0 - 3"
   ]
  },
  {
   "cell_type": "markdown",
   "metadata": {},
   "source": [
    "### List\n",
    "\n",
    "~List adalah tipe data yang berisi item yang berurut. Seperti halnya tipe data string, tiap item (anggota) list memiliki indeks sesuai dengan urutannya. Indeks dimulai dari 0 dan bukan dari 1.\n",
    "\n",
    "~Untuk mengakses item dari list caranya adalah dengan memanggil nama list diikuti indeks dari item yang bersangkutan, yaitu dengan format namalist[index]\n",
    "\n",
    "~Selain itu bisa juga dilakukan pengaksesan terhadap sejumlah item dari indeks ke indeks. Hal ini disebut slicing. Contohnya sebagai berikut:"
   ]
  },
  {
   "cell_type": "code",
   "execution_count": 15,
   "metadata": {},
   "outputs": [
    {
     "name": "stdout",
     "output_type": "stream",
     "text": [
      "a[2] =  9\n",
      "a[0:3] =  [3, 6, 9]\n",
      "a[5:] =  [18, 21, 24]\n"
     ]
    }
   ],
   "source": [
    "a = [3,6,9,12,15,18,21,24]\n",
    "\n",
    "# a[2] = 9\n",
    "print(\"a[2] = \", a[2])\n",
    "\n",
    "# a[0:3] = [3, 6, 9]\n",
    "print(\"a[0:3] = \", a[0:3])\n",
    "\n",
    "# a[5:] = [18, 21, 24]\n",
    "print(\"a[5:] = \", a[5:]) "
   ]
  },
  {
   "cell_type": "markdown",
   "metadata": {},
   "source": [
    "### Tuple\n",
    "\n",
    "Tuple dideklarasikan dengan menggunakan tanda kurung ( ). dan anggotanya dipisahkan oleh tanda koma. Tuple berguna untuk data yang dimaksudkan tidak diubah isinya. Misalnya tuple komposisi warna untuk putih adalah (255,255,255).\n"
   ]
  },
  {
   "cell_type": "code",
   "execution_count": 16,
   "metadata": {},
   "outputs": [
    {
     "name": "stdout",
     "output_type": "stream",
     "text": [
      "(255, 255, 255, 0)\n",
      "255\n",
      "0\n"
     ]
    },
    {
     "ename": "TypeError",
     "evalue": "'tuple' object does not support item assignment",
     "output_type": "error",
     "traceback": [
      "\u001b[1;31m---------------------------------------------------------------------------\u001b[0m",
      "\u001b[1;31mTypeError\u001b[0m                                 Traceback (most recent call last)",
      "\u001b[1;32m<ipython-input-16-22b338485177>\u001b[0m in \u001b[0;36m<module>\u001b[1;34m\u001b[0m\n\u001b[0;32m      7\u001b[0m \u001b[1;31m# akan menghasilkan error\u001b[0m\u001b[1;33m\u001b[0m\u001b[1;33m\u001b[0m\u001b[0m\n\u001b[0;32m      8\u001b[0m \u001b[1;31m# tuple bersifat immutable\u001b[0m\u001b[1;33m\u001b[0m\u001b[1;33m\u001b[0m\u001b[0m\n\u001b[1;32m----> 9\u001b[1;33m \u001b[0mred\u001b[0m\u001b[1;33m[\u001b[0m\u001b[1;36m0\u001b[0m\u001b[1;33m]\u001b[0m \u001b[1;33m=\u001b[0m \u001b[1;36m128\u001b[0m\u001b[1;33m\u001b[0m\u001b[0m\n\u001b[0m",
      "\u001b[1;31mTypeError\u001b[0m: 'tuple' object does not support item assignment"
     ]
    }
   ],
   "source": [
    "white = (255,255, 255, 0)\n",
    "red = (255,0,0,0)\n",
    "print(white)\n",
    "print(red[0])\n",
    "print(red[1])\n",
    "\n",
    "# akan menghasilkan error\n",
    "# tuple bersifat immutable\n",
    "red[0] = 128"
   ]
  },
  {
   "cell_type": "markdown",
   "metadata": {},
   "source": [
    "### Set\n",
    "\n",
    "~Set bisa digunakan untuk melakukan operasi himpunan matematika seperti gabungan, irisan, selisih, dan komplemen.\n",
    "\n",
    "~Set dibuat dengan meletakkan anggota – anggotanya di dalam tanda kurung kurawal { }, dipisahkan menggunakan tanda koma. Kita juga bisa membuat set dari list dengan memasukkan list ke dalam fungsi set()\n"
   ]
  },
  {
   "cell_type": "code",
   "execution_count": null,
   "metadata": {},
   "outputs": [],
   "source": [
    "# set integer \n",
    "my_set = {1,2,3} \n",
    "print(my_set) \n",
    "\n",
    "# set dengan menggunakan fungsi set() \n",
    "my_set = set([1,2,3]) \n",
    "print(my_set) \n",
    "\n",
    "# set data campuran \n",
    "my_set = {1, 2.0, \"Python\", (3,4,5)} \n",
    "print(my_set) \n",
    "\n",
    "# bila kita mengisi duplikasi, set akan menghilangkan salah satu \n",
    "# output: {1,2,3} \n",
    "my_set = {1,2,2,3,3,3} \n",
    "print(my_set) \n",
    "\n",
    "# set tidak bisa berisi anggota list \n",
    "# contoh berikut akan muncul error TypeError \n",
    "my_set = {1,2,[3,4,5]} "
   ]
  },
  {
   "cell_type": "markdown",
   "metadata": {},
   "source": [
    "### Dictionary\n",
    "\n",
    "~Dictionary adalah tipe data yang tiap anggotanya terdiri dari pasangan kunci-nilai (key-value). Mirip dengan kamus dimana ada kata ada arti. Dictionary umumnya dipakai untuk data yang besar dan untuk mengakses anggota data secara acak. Anggota dictionary tidak memiliki indeks.\n",
    "\n",
    "~Dictionary dideklarasikan dengan menggunakan tanda kurung kurawal { }, dimana anggotanya memiliki bentuk kunci:nilai atau key:value dan tiap anggota dipisah tanda koma. Kunci dan nilainya bisa memiliki tipe sembarang."
   ]
  },
  {
   "cell_type": "code",
   "execution_count": null,
   "metadata": {},
   "outputs": [],
   "source": [
    "d = {1:'satu', 2:'dua', 'tiga':3}\n",
    "print(type(d))\n",
    "print(\"d[1] = \", d[1])\n",
    "print(\"d['tiga'] = \", d['tiga'])\n",
    "# Error\n",
    "print(\"d[3] = \", d[3])"
   ]
  },
  {
   "cell_type": "markdown",
   "metadata": {},
   "source": [
    "# Operator Python"
   ]
  },
  {
   "cell_type": "markdown",
   "metadata": {},
   "source": [
    "Operator adalah simbol tertentu yang digunakan untuk melakukan operasi aritmatika maupun logika. Nilai yang padanya dilakukan operasi disebut operand. Misalnya adalah  2 + 3. Di sini tanda + adalah operator penjumlahan. 2 dan 3 adalah operand."
   ]
  },
  {
   "cell_type": "markdown",
   "metadata": {},
   "source": [
    "Python memiliki sejumlah operator, yaitu:\n",
    "\n",
    "1.Operator Aritmatika. \n",
    "\n",
    "2.Operator Perbandingan.\n",
    "\n",
    "3.Operator Penugasan\n",
    "\n",
    "4.Operator Logika \n",
    "\n",
    "5.Operator Bitwise"
   ]
  },
  {
   "cell_type": "markdown",
   "metadata": {},
   "source": [
    "# Percabangan\n",
    "\n",
    "~Percabangan adalah cara yang digunakan untuk mengambil keputusan apabila di dalam program dihadapkan pada kondisi tertentu. Jumlah kondisinya bisa satu, dua atau lebih.\n",
    "\n",
    "~Percabangan mengevaluasi kondisi atau ekspresi yang hasilnya benar atau salah .  Kondisi atau ekspresi tersebut disebut ekspresi boolean. Hasil dari pengecekan kondisi adalah True atau False. Bila benar (True), maka pernyataan yang ada di dalam blok kondisi tersebut akan dieksekusi. Bila salah (False), maka blok pernyataan lain yang dieksekusi\n"
   ]
  },
  {
   "cell_type": "code",
   "execution_count": null,
   "metadata": {},
   "outputs": [],
   "source": [
    "# Di sini kita menguji apakah sebuah bilangan\n",
    "# adalah bilangan positif, nol, atau negatif\n",
    "# dan menampilkan hasilnya ke layar\n",
    "\n",
    "bilangan = 5.5\n",
    "\n",
    "# Coba juga mengganti bilangan jadi\n",
    "# bilangan = 0\n",
    "# bilangan = -5.5\n",
    "\n",
    "if bilangan > 0:\n",
    "    print(\"Bilangan positif\")\n",
    "elif bilangan == 0:\n",
    "    print(\"Nol\")"
   ]
  },
  {
   "cell_type": "markdown",
   "metadata": {},
   "source": [
    "# Perulangan\n",
    "\n",
    "Secara umum, Python mengeksekusi program baris perbaris. Mulai dari baris satu, dua, dan seterusnya. Ada kalanya, kita perlu mengeksekusi satu baris atau satu blok kode program beberapa kali. Hal ini disebut dengan perulangan atau biasa disebut looping atau iterasi.\n",
    "\n",
    "Di python, perulangan bisa dilakukan dengan dua cara atau metode, yaitu:\n",
    "\n",
    "1.Menggunakan for\n",
    "\n",
    "2.Menggunakan while\n"
   ]
  },
  {
   "cell_type": "markdown",
   "metadata": {},
   "source": [
    "### For"
   ]
  },
  {
   "cell_type": "code",
   "execution_count": null,
   "metadata": {},
   "outputs": [],
   "source": [
    "# Program untuk menemukan jumlah bilangan dalam satu list\n",
    "\n",
    "# List number\n",
    "numbers = [7, 5, 9, 8, 4, 2, 6, 4, 1]\n",
    "\n",
    "# variablel untuk menyimpan jumlah\n",
    "\n",
    "sum = 0\n",
    "\n",
    "# iterasi\n",
    "for each in numbers:\n",
    "    sum = sum + each\n",
    "\n",
    "# Output: Jumlah semuanya: 46\n",
    "print(\"Jumlah semuanya:\", sum)"
   ]
  },
  {
   "cell_type": "markdown",
   "metadata": {},
   "source": [
    "### While"
   ]
  },
  {
   "cell_type": "code",
   "execution_count": null,
   "metadata": {},
   "outputs": [],
   "source": [
    "# contoh penggunaan statement break\n",
    "for letter in \"Programming\":\n",
    "    if letter == \"g\":\n",
    "        break\n",
    "    print(\"Huruf sekarang:\", letter)\n",
    "print(\"Good bye\")"
   ]
  },
  {
   "cell_type": "markdown",
   "metadata": {},
   "source": [
    "# Terima Kasih.."
   ]
  },
  {
   "cell_type": "markdown",
   "metadata": {},
   "source": [
    "### Sumber\n",
    "\n",
    "https://www.duniailkom.com/tutorial-belajar-python-pengertian-bahasa-pemrograman-python/\n",
    "\n",
    "https://www.pythonindo.com/percabangan/\n",
    "\n",
    "https://www.pythonindo.com/perulangan/\n",
    "\n",
    "https://www.pythonindo.com/variabel-dan-tipe-data-python/\n",
    "\n",
    "https://www.pythonindo.com/sintaks-dasar-python/\n"
   ]
  },
  {
   "cell_type": "code",
   "execution_count": null,
   "metadata": {},
   "outputs": [],
   "source": []
  }
 ],
 "metadata": {
  "kernelspec": {
   "display_name": "Python 3",
   "language": "python",
   "name": "python3"
  },
  "language_info": {
   "codemirror_mode": {
    "name": "ipython",
    "version": 3
   },
   "file_extension": ".py",
   "mimetype": "text/x-python",
   "name": "python",
   "nbconvert_exporter": "python",
   "pygments_lexer": "ipython3",
   "version": "3.6.3"
  }
 },
 "nbformat": 4,
 "nbformat_minor": 2
}
